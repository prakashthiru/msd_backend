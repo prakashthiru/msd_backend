{
 "cells": [
  {
   "cell_type": "code",
   "execution_count": 1,
   "metadata": {
    "collapsed": true
   },
   "outputs": [],
   "source": [
    "# coding: utf-8\n",
    "from pyspark.sql import Window, Row\n",
    "from pyspark.sql.functions import col, count\n",
    "from pyspark.sql.functions import rank, row_number\n",
    "from pyspark.sql.functions import unix_timestamp\n",
    "from pyspark.sql.types import LongType\n",
    "\n",
    "import redis\n",
    "import pandas as pd\n",
    "import app_constants\n",
    "import spark_setup\n",
    "import database_setup\n",
    "\n",
    "# Setups\n",
    "db = database_setup.DatabaseSetup.db\n",
    "spark = spark_setup.SparkSetup.spark"
   ]
  },
  {
   "cell_type": "code",
   "execution_count": 2,
   "metadata": {
    "collapsed": false
   },
   "outputs": [],
   "source": [
    "# Loading data as spark DF. Column with dots -> Upgrade pyspark > 2.0.0\n",
    "session_df = spark.read \\\n",
    "                .option(\"delimiter\", \",\") \\\n",
    "                .option(\"inferSchema\", \"true\") \\\n",
    "                .option(\"header\", spark_setup.SparkSetup.data_headers) \\\n",
    "                .csv('data/test.csv')\n",
    "\n",
    "# Data clean up: REMOVE duplicate records and if required column has NULL value\n",
    "clean_df = session_df.drop_duplicates() \\\n",
    "                    .dropna(subset=app_constants.Columns.REQUIRED) \\\n",
    "                    .select(app_constants.Columns.REQUIRED)"
   ]
  },
  {
   "cell_type": "code",
   "execution_count": 30,
   "metadata": {
    "collapsed": false
   },
   "outputs": [],
   "source": [
    "date_window = Window.partitionBy(clean_df.dateAdded) \\\n",
    "                    .orderBy(clean_df.dateAdded.desc(),\n",
    "                            clean_df.dateUpdated.desc())\n",
    "\n",
    "recent_df = clean_df.withColumn('date_timestamp',\n",
    "                          unix_timestamp(clean_df.dateAdded.cast('date'))) \\\n",
    "                    .withColumn(\"date_added\", unix_timestamp(clean_df.dateAdded)) \\\n",
    "                    .withColumn(\"date_updated\", unix_timestamp(clean_df.dateUpdated)) \\\n",
    "                    .withColumn('row_number', row_number().over(date_window)) \\\n",
    "                    .filter(col('row_number') == app_constants.Count.RECENT_DATA) \\\n",
    "                    .drop('row_number', 'dateAdded', 'dateUpdated') \\\n",
    "                    .withColumnRenamed('date_added', 'dateAdded') \\\n",
    "                    .withColumnRenamed('date_updated', 'dateUpdated')\n",
    "\n",
    "# recent_dict = recent_df.toPandas().to_dict('records')\n",
    "\n",
    "# for data in recent_dict:\n",
    "#     # Create key with recent namespace & epoch date\n",
    "#     recent_key = app_constants.KeyMeta.RECENT + app_constants.KeyMeta.JOINER + str(data['date_timestamp'])\n",
    "#     # Assigning entire hash to the key\n",
    "#     db.hmset(recent_key, data)"
   ]
  },
  {
   "cell_type": "code",
   "execution_count": 31,
   "metadata": {
    "collapsed": false
   },
   "outputs": [
    {
     "name": "stdout",
     "output_type": "stream",
     "text": [
      "+--------------------+------------+------------------+--------------+----------+-----------+\n",
      "|                  id|       brand|            colors|date_timestamp| dateAdded|dateUpdated|\n",
      "+--------------------+------------+------------------+--------------+----------+-----------+\n",
      "|AVpe_3ai1cnluZ0-boTX|Michael Kors|             Black|    1457029800|1457058929| 1457058929|\n",
      "|AVpe_0ob1cnluZ0-bnWr|  BEAUTIFEET|  Multicolor,MULTI|    1478197800|1478229071| 1478229071|\n",
      "|AVpe_54gilAPnD_xSr-B| Faded Glory|          TAN,Grey|    1455820200|1455829062| 1485749520|\n",
      "|AVpe_1O_LJeJML430GGC|        Lugz|             Brown|    1430677800|1430742012| 1488472613|\n",
      "|AVpe_4ijilAPnD_xSrfB|   Wild Diva|             Brown|    1442773800|1442838209| 1488814919|\n",
      "|AVpe_19KilAPnD_xSqnY|    Caparros|            Silver|    1478197800|1478227840| 1478227840|\n",
      "|AVpe_4OLLJeJML430HJo|    SKECHERS|             Black|    1478802600|1478857876| 1478857876|\n",
      "|AVpe_34HilAPnD_xSrP8|       Bloch|White,Black,Silver|    1483986600|1483991155| 1483991155|\n",
      "|AVpe__eOilAPnD_xSt-H|      Novica|            Purple|    1486146600|1486159584| 1490702031|\n",
      "|AVpe_2Gv1cnluZ0-bn35|Vince Camuto|             Brown|    1485455400|1485480773| 1485480773|\n",
      "+--------------------+------------+------------------+--------------+----------+-----------+\n",
      "\n"
     ]
    }
   ],
   "source": [
    "# recent_dict[0]['date_timestamp'] # datetime.date(2015, 10, 17), 1445020200\n",
    "recent_df.show()"
   ]
  },
  {
   "cell_type": "code",
   "execution_count": 111,
   "metadata": {
    "collapsed": false
   },
   "outputs": [
    {
     "data": {
      "text/plain": [
       "{'brand': 'JingXiGuoJi',\n",
       " 'colors': 'White,Red,Black,Gold,Yellow,Blue,Orange,Purple',\n",
       " 'dateAdded': '1445022595',\n",
       " 'dateUpdated': '1468917954',\n",
       " 'date_timestamp': '1445020200',\n",
       " 'id': 'AVpe5Zm4ilAPnD_xQVqz'}"
      ]
     },
     "execution_count": 111,
     "metadata": {},
     "output_type": "execute_result"
    }
   ],
   "source": [
    "# import json\n",
    "\n",
    "# recent_hash = db.Hash('recent:100')\n",
    "# recent_key = db.get_key('recent:100')\n",
    "# recent_hash.update(data)\n",
    "# eval(db.__getitem__('recent:100'))\n",
    "# print recent_hash\n",
    "\n",
    "# data = recent_dict[1]\n",
    "# data = json.dumps(recent_dict[0])\n",
    "# db.set('recent:200', data)\n",
    "# db.get('recent:200')\n",
    "\n",
    "# db.hmset('recent:300', data)\n",
    "# db.hgetall('recent:1445020200')\n",
    "\n",
    "# type(json.dumps([{'x': 2}, {'x': 3}]))\n",
    "# db.get('recent:1445020200')"
   ]
  },
  {
   "cell_type": "code",
   "execution_count": 138,
   "metadata": {
    "collapsed": false,
    "scrolled": true
   },
   "outputs": [],
   "source": [
    "count_df = clean_df.withColumn('date_timestamp', \\\n",
    "                        unix_timestamp(clean_df.dateAdded.cast('date'))) \\\n",
    "                  .groupBy('date_timestamp', 'brand') \\\n",
    "                  .agg(count('brand')) \\\n",
    "                  .orderBy('date_timestamp', 'count(brand)', ascending=False)\n",
    "\n",
    "count_dict = count_df.toPandas() \\\n",
    "                  .groupby('date_timestamp') \\\n",
    "                  .apply(lambda x: dict(zip(x['brand'], x['count(brand)']))) \\\n",
    "                  .to_dict()\n",
    "\n",
    "for epoch_date, data in count_dict.iteritems():\n",
    "    # Create key with count namespace & epoch date\n",
    "    count_key = app_constants.KeyMeta.COUNT + app_constants.KeyMeta.JOINER + str(epoch_date)\n",
    "    # Assigning entire hash to the redis key\n",
    "    db.hmset(count_key, data)"
   ]
  },
  {
   "cell_type": "code",
   "execution_count": 139,
   "metadata": {
    "collapsed": false
   },
   "outputs": [
    {
     "data": {
      "text/plain": [
       "{1430677800: {u'Lugz': 1},\n",
       " 1442773800: {u'Wild Diva': 1},\n",
       " 1455820200: {u'Faded Glory': 1},\n",
       " 1457029800: {u'Michael Kors': 1},\n",
       " 1478197800: {u'BEAUTIFEET': 1, u'Caparros': 1},\n",
       " 1478802600: {u'SKECHERS': 1},\n",
       " 1483986600: {u'Bloch': 1},\n",
       " 1485455400: {u'Vince Camuto': 2},\n",
       " 1486146600: {u'Michael Kors': 1, u'Novica': 3}}"
      ]
     },
     "execution_count": 139,
     "metadata": {},
     "output_type": "execute_result"
    }
   ],
   "source": [
    "count_dict"
   ]
  },
  {
   "cell_type": "code",
   "execution_count": 59,
   "metadata": {
    "collapsed": false
   },
   "outputs": [],
   "source": [
    "color_window = Window.partitionBy(clean_df.colors) \\\n",
    "                    .orderBy(clean_df.dateAdded.desc(), \\\n",
    "                            clean_df.dateUpdated.desc())\n",
    "\n",
    "color_df = clean_df.select('*', row_number() \\\n",
    "                                .over(color_window) \\\n",
    "                                .alias('row_number')) \\\n",
    "                    .filter(col('row_number') <= app_constants.Count.COLOR_DATA) \\\n",
    "                    .withColumn('dateAdded', unix_timestamp(clean_df.dateAdded).cast(LongType())) \\\n",
    "                    .withColumn('dateUpdated', unix_timestamp(clean_df.dateUpdated).cast(LongType())) \\\n",
    "                    .drop('row_number')\n",
    "\n",
    "color_dict = color_df.toPandas() \\\n",
    "                    .groupby(['colors']) \\\n",
    "                    .apply(lambda x: x.to_dict('records'))\n",
    "\n",
    "# for k, v in color_dict.iteritems():\n",
    "#     for color in k.split(','):\n",
    "#         key = (app_constants.KeyMeta.COLOR + app_constants.KeyMeta.JOINER + color).lower()\n",
    "#         if db.exists(key): db.delete(key)\n",
    "\n",
    "# for color, data in color_dict.iteritems():\n",
    "#     split_colors = color.split(',')\n",
    "\n",
    "#     for split_color in split_colors:\n",
    "#         color_key = (app_constants.KeyMeta.COLOR + app_constants.KeyMeta.JOINER + split_color).lower()\n",
    "#         db.rpush(color_key, *data)"
   ]
  },
  {
   "cell_type": "code",
   "execution_count": 66,
   "metadata": {
    "collapsed": false
   },
   "outputs": [
    {
     "data": {
      "text/plain": [
       "{'brand': u'SKECHERS',\n",
       " 'colors': u'Black',\n",
       " 'dateAdded': 1478857876,\n",
       " 'dateUpdated': 1478857876,\n",
       " 'id': u'AVpe_4OLLJeJML430HJo'}"
      ]
     },
     "execution_count": 66,
     "metadata": {},
     "output_type": "execute_result"
    }
   ],
   "source": [
    "# color_df.show()\n",
    "\n",
    "# key = 'color:100'\n",
    "# import json\n",
    "data = color_dict[0][0]\n",
    "data\n",
    "# db.delete(key)\n",
    "# db.exists(key)\n",
    "# db.rpush(key, *data)\n",
    "# db.lrange(key, 0, -1)\n",
    "\n",
    "# for k, v in color_dict.iteritems():\n",
    "#     for color in k.split(','):\n",
    "#         key = (app_constants.KeyMeta.COLOR + app_constants.KeyMeta.JOINER + color).lower()\n",
    "#         if db.exists(key): db.delete(key)\n",
    "\n",
    "# for color, data in color_dict.iteritems():\n",
    "#     split_colors = color.split(',')\n",
    "\n",
    "#     for split_color in split_colors:\n",
    "#         color_key = (app_constants.KeyMeta.COLOR + app_constants.KeyMeta.JOINER + split_color).lower()\n",
    "#         db.rpush(color_key, *data)\n",
    "\n",
    "# print db.lrange('color:silver', 0, -1)"
   ]
  }
 ],
 "metadata": {
  "kernelspec": {
   "display_name": "Python 2",
   "language": "python",
   "name": "python2"
  },
  "language_info": {
   "codemirror_mode": {
    "name": "ipython",
    "version": 2
   },
   "file_extension": ".py",
   "mimetype": "text/x-python",
   "name": "python",
   "nbconvert_exporter": "python",
   "pygments_lexer": "ipython2",
   "version": "2.7.13"
  }
 },
 "nbformat": 4,
 "nbformat_minor": 0
}
